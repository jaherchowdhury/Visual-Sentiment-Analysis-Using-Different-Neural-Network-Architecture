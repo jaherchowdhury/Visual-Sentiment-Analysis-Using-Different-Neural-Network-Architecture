{
 "cells": [
  {
   "cell_type": "code",
   "execution_count": 1,
   "id": "c8d3c64a",
   "metadata": {},
   "outputs": [],
   "source": [
    "import os\n",
    "import numpy as np\n",
    "import tensorflow as tf\n",
    "from tensorflow.keras.preprocessing.image import ImageDataGenerator, load_img, img_to_array\n",
    "from tensorflow.keras.layers import GlobalAveragePooling2D, Dense\n",
    "from tensorflow.keras.models import Model\n",
    "from tensorflow.keras.optimizers import Adam\n",
    "from tensorflow.keras.utils import to_categorical\n",
    "import cv2\n",
    "from sklearn.preprocessing import LabelEncoder\n",
    "\n"
   ]
  },
  {
   "cell_type": "code",
   "execution_count": 2,
   "id": "046651fe",
   "metadata": {},
   "outputs": [],
   "source": [
    "# Parameters\n",
    "input_size = (224, 224)\n",
    "batch_size = 32\n",
    "num_classes = 7  # Number of sentiment classes\n",
    "epochs = 50  # Adjust as needed\n",
    "\n"
   ]
  },
  {
   "cell_type": "code",
   "execution_count": 3,
   "id": "e3cf2753",
   "metadata": {},
   "outputs": [],
   "source": [
    "from tensorflow.keras.preprocessing.image import ImageDataGenerator\n",
    "\n",
    "# Define a function to preprocess the dataset with data augmentation\n",
    "def preprocess_dataset(dataset_dir, input_size):\n",
    "    data = []\n",
    "    labels = []\n",
    "    \n",
    "    datagen = ImageDataGenerator(\n",
    "        rotation_range=20,\n",
    "        width_shift_range=0.2,\n",
    "        height_shift_range=0.2,\n",
    "        horizontal_flip=True,\n",
    "        fill_mode='nearest',\n",
    "        rescale=1./255\n",
    "    )\n",
    "\n",
    "    label_encoder = LabelEncoder()\n",
    "\n",
    "    for emotion_label in os.listdir(dataset_dir):\n",
    "        emotion_dir = os.path.join(dataset_dir, emotion_label)\n",
    "        if os.path.isdir(emotion_dir):\n",
    "            for root, dirs, files in os.walk(emotion_dir):\n",
    "                for image_file in files:\n",
    "                    image_path = os.path.join(root, image_file)\n",
    "                    image = load_img(image_path, target_size=input_size)\n",
    "                    image = img_to_array(image)\n",
    "                    \n",
    "                    if image.shape[-1] != 3:\n",
    "                        image = cv2.cvtColor(image, cv2.COLOR_BGR2GRAY)\n",
    "                        image = cv2.equalizeHist(image)\n",
    "                        image = cv2.cvtColor(image, cv2.COLOR_GRAY2BGR)\n",
    "                    \n",
    "                    data.append(image)\n",
    "                    labels.append(emotion_label)\n",
    "\n",
    "    labels = label_encoder.fit_transform(labels)\n",
    "    return np.array(data), labels\n"
   ]
  },
  {
   "cell_type": "code",
   "execution_count": 4,
   "id": "9dc23353",
   "metadata": {},
   "outputs": [],
   "source": [
    "from sklearn.model_selection import train_test_split\n",
    "# Dataset\n",
    "dataset_dir = 'D:/Study/Digital Image Processing/Dataset/KDEF'\n",
    "\n",
    "input_size = (224, 224)\n",
    "\n",
    "# Preprocess the Dataset\n",
    "X, y = preprocess_dataset(dataset_dir, input_size)\n",
    "\n",
    "# Split the dataset into training and testing sets\n",
    "X_train, X_test, y_train, y_test = train_test_split(X, y, test_size=0.2, random_state=42)\n"
   ]
  },
  {
   "cell_type": "code",
   "execution_count": 5,
   "id": "93ab4d70",
   "metadata": {},
   "outputs": [],
   "source": [
    "# One-hot encode the labels\n",
    "y_train = to_categorical(y_train, num_classes)\n",
    "y_test = to_categorical(y_test, num_classes)\n",
    "\n"
   ]
  },
  {
   "cell_type": "code",
   "execution_count": 188,
   "id": "765691df",
   "metadata": {
    "scrolled": true
   },
   "outputs": [
    {
     "name": "stdout",
     "output_type": "stream",
     "text": [
      "Layer Name: input_8, Trainable: False\n",
      "Layer Name: block1_conv1, Trainable: False\n",
      "Layer Name: block1_conv2, Trainable: False\n",
      "Layer Name: block1_pool, Trainable: False\n",
      "Layer Name: block2_conv1, Trainable: False\n",
      "Layer Name: block2_conv2, Trainable: False\n",
      "Layer Name: block2_pool, Trainable: False\n",
      "Layer Name: block3_conv1, Trainable: False\n",
      "Layer Name: block3_conv2, Trainable: False\n",
      "Layer Name: block3_conv3, Trainable: False\n",
      "Layer Name: block3_conv4, Trainable: False\n",
      "Layer Name: block3_pool, Trainable: False\n",
      "Layer Name: block4_conv1, Trainable: False\n",
      "Layer Name: block4_conv2, Trainable: False\n",
      "Layer Name: block4_conv3, Trainable: False\n",
      "Layer Name: block4_conv4, Trainable: False\n",
      "Layer Name: block4_pool, Trainable: False\n",
      "Layer Name: block5_conv1, Trainable: False\n",
      "Layer Name: block5_conv2, Trainable: True\n",
      "Layer Name: block5_conv3, Trainable: True\n",
      "Layer Name: block5_conv4, Trainable: True\n",
      "Layer Name: block5_pool, Trainable: True\n"
     ]
    }
   ],
   "source": [
    "from tensorflow.keras.layers import Dropout\n",
    "from tensorflow.keras.callbacks import EarlyStopping\n",
    "from tensorflow.keras.regularizers import l2\n",
    "from tensorflow.keras.layers import Input, GlobalAveragePooling2D, Dense, Dropout\n",
    "from tensorflow.keras.models import Model\n",
    "\n",
    "# Load base models\n",
    "vgg_base = tf.keras.applications.VGG19(weights='imagenet', include_top=False, input_shape=input_size + (3,))\n",
    "\n",
    "\n",
    "# for layer in vgg_base.layers:\n",
    "#      layer.trainable = False\n",
    "\n",
    "# for layer in vgg_base.layers:\n",
    "#     print(f\"Layer Name: {layer.name}, Trainable: {layer.trainable}\")\n",
    "\n",
    "# # Freeze top layers in base models\n",
    "def freeze_top_layers(base_model):\n",
    "     for layer in base_model.layers[:-4]:  # Freeze all layers except the last 4\n",
    "        layer.trainable = False\n",
    "\n",
    "freeze_top_layers(vgg_base)\n",
    "\n",
    "for layer in vgg_base.layers:\n",
    "    print(f\"Layer Name: {layer.name}, Trainable: {layer.trainable}\")"
   ]
  },
  {
   "cell_type": "code",
   "execution_count": 189,
   "id": "6a9eeb3f",
   "metadata": {},
   "outputs": [
    {
     "name": "stdout",
     "output_type": "stream",
     "text": [
      "Non-frozen layers:\n",
      "['block5_conv2', 'block5_conv3', 'block5_conv4', 'block5_pool']\n"
     ]
    }
   ],
   "source": [
    "non_frozen_layers = [layer.name for layer in vgg_base.layers if layer.trainable]\n",
    "\n",
    "print(\"Non-frozen layers:\")\n",
    "print(non_frozen_layers)"
   ]
  },
  {
   "cell_type": "code",
   "execution_count": 190,
   "id": "e8b3a3d6",
   "metadata": {},
   "outputs": [],
   "source": [
    "num_classes=7"
   ]
  },
  {
   "cell_type": "code",
   "execution_count": 191,
   "id": "4ef951fe",
   "metadata": {
    "scrolled": true
   },
   "outputs": [
    {
     "name": "stdout",
     "output_type": "stream",
     "text": [
      "Epoch 1/50\n",
      "74/74 [==============================] - 428s 6s/step - loss: 8.1604 - accuracy: 0.2298 - val_loss: 7.0596 - val_accuracy: 0.4456\n",
      "Epoch 2/50\n",
      "74/74 [==============================] - 425s 6s/step - loss: 6.4040 - accuracy: 0.4396 - val_loss: 5.6052 - val_accuracy: 0.5340\n",
      "Epoch 3/50\n",
      "74/74 [==============================] - 429s 6s/step - loss: 5.0202 - accuracy: 0.5847 - val_loss: 4.3432 - val_accuracy: 0.6735\n",
      "Epoch 4/50\n",
      "74/74 [==============================] - 430s 6s/step - loss: 3.9687 - accuracy: 0.6894 - val_loss: 3.4349 - val_accuracy: 0.7653\n",
      "Epoch 5/50\n",
      "74/74 [==============================] - 426s 6s/step - loss: 3.0998 - accuracy: 0.7800 - val_loss: 2.7519 - val_accuracy: 0.8214\n",
      "Epoch 6/50\n",
      "74/74 [==============================] - 431s 6s/step - loss: 2.4631 - accuracy: 0.8404 - val_loss: 2.4815 - val_accuracy: 0.7772\n",
      "Epoch 7/50\n",
      "74/74 [==============================] - 423s 6s/step - loss: 1.9423 - accuracy: 0.8898 - val_loss: 1.8262 - val_accuracy: 0.8656\n",
      "Epoch 8/50\n",
      "74/74 [==============================] - 430s 6s/step - loss: 1.5177 - accuracy: 0.9349 - val_loss: 1.5925 - val_accuracy: 0.8656\n",
      "Epoch 9/50\n",
      "74/74 [==============================] - 427s 6s/step - loss: 1.2838 - accuracy: 0.9443 - val_loss: 1.3924 - val_accuracy: 0.8690\n",
      "Epoch 10/50\n",
      "74/74 [==============================] - 423s 6s/step - loss: 1.0461 - accuracy: 0.9685 - val_loss: 1.2059 - val_accuracy: 0.8912\n",
      "Epoch 11/50\n",
      "74/74 [==============================] - 425s 6s/step - loss: 0.8756 - accuracy: 0.9783 - val_loss: 1.0435 - val_accuracy: 0.9235\n",
      "Epoch 12/50\n",
      "74/74 [==============================] - 422s 6s/step - loss: 0.7605 - accuracy: 0.9804 - val_loss: 1.0156 - val_accuracy: 0.8759\n",
      "Epoch 13/50\n",
      "74/74 [==============================] - 422s 6s/step - loss: 0.6717 - accuracy: 0.9821 - val_loss: 0.8184 - val_accuracy: 0.9303\n",
      "Epoch 14/50\n",
      "74/74 [==============================] - 422s 6s/step - loss: 0.6138 - accuracy: 0.9783 - val_loss: 0.8031 - val_accuracy: 0.9133\n",
      "Epoch 15/50\n",
      "74/74 [==============================] - 426s 6s/step - loss: 0.5484 - accuracy: 0.9826 - val_loss: 0.7836 - val_accuracy: 0.9031\n",
      "Epoch 16/50\n",
      "74/74 [==============================] - 421s 6s/step - loss: 0.4946 - accuracy: 0.9821 - val_loss: 0.6686 - val_accuracy: 0.9354\n",
      "Epoch 17/50\n",
      "74/74 [==============================] - 426s 6s/step - loss: 0.4441 - accuracy: 0.9843 - val_loss: 0.6855 - val_accuracy: 0.9184\n",
      "Epoch 18/50\n",
      "74/74 [==============================] - 431s 6s/step - loss: 0.3998 - accuracy: 0.9877 - val_loss: 0.6450 - val_accuracy: 0.9184\n",
      "Epoch 19/50\n",
      "74/74 [==============================] - 437s 6s/step - loss: 0.3724 - accuracy: 0.9860 - val_loss: 0.6176 - val_accuracy: 0.9150\n",
      "Epoch 20/50\n",
      "74/74 [==============================] - 429s 6s/step - loss: 0.3415 - accuracy: 0.9877 - val_loss: 0.7444 - val_accuracy: 0.9116\n",
      "Epoch 21/50\n",
      "74/74 [==============================] - 430s 6s/step - loss: 0.3055 - accuracy: 0.9949 - val_loss: 0.6530 - val_accuracy: 0.8929\n",
      "Epoch 22/50\n",
      "74/74 [==============================] - 429s 6s/step - loss: 0.2888 - accuracy: 0.9919 - val_loss: 0.6211 - val_accuracy: 0.9048\n",
      "Epoch 23/50\n",
      "74/74 [==============================] - 425s 6s/step - loss: 0.2632 - accuracy: 0.9945 - val_loss: 0.5190 - val_accuracy: 0.9320\n",
      "Epoch 24/50\n",
      "74/74 [==============================] - 424s 6s/step - loss: 0.2310 - accuracy: 0.9996 - val_loss: 0.5089 - val_accuracy: 0.9320\n",
      "Epoch 25/50\n",
      "74/74 [==============================] - 423s 6s/step - loss: 0.2142 - accuracy: 0.9991 - val_loss: 0.4786 - val_accuracy: 0.9320\n",
      "Epoch 26/50\n",
      "74/74 [==============================] - 424s 6s/step - loss: 0.1991 - accuracy: 0.9996 - val_loss: 0.4713 - val_accuracy: 0.9337\n",
      "Epoch 27/50\n",
      "74/74 [==============================] - 396s 5s/step - loss: 0.1880 - accuracy: 0.9983 - val_loss: 0.4562 - val_accuracy: 0.9320\n",
      "Epoch 28/50\n",
      "74/74 [==============================] - 257s 3s/step - loss: 0.1755 - accuracy: 0.9987 - val_loss: 0.4335 - val_accuracy: 0.9371\n",
      "Epoch 29/50\n",
      "74/74 [==============================] - 221s 3s/step - loss: 0.1635 - accuracy: 0.9991 - val_loss: 0.4518 - val_accuracy: 0.9286\n",
      "Epoch 30/50\n",
      "74/74 [==============================] - 221s 3s/step - loss: 0.1964 - accuracy: 0.9864 - val_loss: 0.4560 - val_accuracy: 0.9133\n",
      "Epoch 31/50\n",
      "74/74 [==============================] - 221s 3s/step - loss: 0.1964 - accuracy: 0.9800 - val_loss: 0.5327 - val_accuracy: 0.9014\n",
      "Epoch 32/50\n",
      "74/74 [==============================] - 220s 3s/step - loss: 0.1671 - accuracy: 0.9911 - val_loss: 0.4860 - val_accuracy: 0.9099\n",
      "Epoch 33/50\n",
      "74/74 [==============================] - 287s 4s/step - loss: 0.1377 - accuracy: 0.9974 - val_loss: 0.4561 - val_accuracy: 0.9286\n"
     ]
    }
   ],
   "source": [
    "# Function to create transfer model with dropout\n",
    "def create_transfer_model_with_dropout(base_model, num_classes,dropout_rate=0.5,l2_penalty=0.01):\n",
    "    x = GlobalAveragePooling2D()(base_model.output)\n",
    "    x = Dense(1024, activation='relu', kernel_regularizer=l2(l2_penalty))(x)\n",
    "    x = Dropout(dropout_rate)(x)\n",
    "    predictions = Dense(7, activation='softmax')(x)\n",
    "    model = Model(inputs=base_model.input, outputs=predictions)\n",
    "    return model\n",
    "\n",
    "# Create transfer models with dropout\n",
    "vgg_model_with_dropout = create_transfer_model_with_dropout(vgg_base, num_classes)\n",
    "\n",
    "# Compile models\n",
    "def compile_model(model):\n",
    "    model.compile(optimizer=Adam(learning_rate=0.0001), loss='categorical_crossentropy', metrics=['accuracy'])\n",
    "\n",
    "compile_model(vgg_model_with_dropout)\n",
    "\n",
    "# Early stopping\n",
    "early_stopping = EarlyStopping(monitor='val_loss', patience=5)\n",
    "\n",
    "# Data generators for training and testing\n",
    "#train_datagen = datagen.flow(X_train, y_train, batch_size=batch_size)\n",
    "#test_datagen = datagen.flow(X_test, y_test, batch_size=batch_size)\n",
    "\n",
    "#Train the models\n",
    "#vgg_history_with_dropout = vgg_model_with_dropout.fit(train_datagen, epochs=epochs, validation_data=test_datagen, callbacks=[early_stopping])\n",
    "\n",
    "vgg_history_with_dropout = vgg_model_with_dropout.fit(X_train, y_train, \n",
    "                                                       batch_size= batch_size,\n",
    "                                                       validation_data= (X_test,y_test),\n",
    "                                                       validation_batch_size=batch_size,\n",
    "                                                       epochs=epochs, \n",
    "                                                       callbacks=[early_stopping])\n",
    "\n",
    "\n"
   ]
  },
  {
   "cell_type": "code",
   "execution_count": 192,
   "id": "ee885425",
   "metadata": {},
   "outputs": [],
   "source": [
    "vgg_train_loss = vgg_history_with_dropout.history['loss']\n",
    "vgg_val_loss = vgg_history_with_dropout.history['val_loss']\n",
    "vgg_train_acc = vgg_history_with_dropout.history['accuracy']\n",
    "vgg_val_acc = vgg_history_with_dropout.history['val_accuracy']"
   ]
  },
  {
   "cell_type": "code",
   "execution_count": 193,
   "id": "d7d0f568",
   "metadata": {},
   "outputs": [
    {
     "data": {
      "image/png": "[encoded data removed]",
      "text/plain": [
       "<Figure size 1200x400 with 2 Axes>"
      ]
     },
     "metadata": {},
     "output_type": "display_data"
    }
   ],
   "source": [
    "import matplotlib.pyplot as plt\n",
    "\n",
    "plt.figure(figsize=(12, 4))\n",
    "plt.subplot(1, 2, 1)\n",
    "plt.plot(vgg_train_loss, label='VGG19 Training Loss')\n",
    "plt.plot(vgg_val_loss, label='VGG19 Validation Loss')\n",
    "plt.legend()\n",
    "plt.xlabel('Epoch')\n",
    "plt.ylabel('Loss')\n",
    "plt.title('InceptionV3 Loss Over Time')\n",
    "\n",
    "plt.subplot(1, 2, 2)\n",
    "plt.plot(vgg_train_acc, label='VGG19 Training Accuracy')\n",
    "plt.plot(vgg_val_acc, label='VGG19 Validation Accuracy')\n",
    "plt.legend()\n",
    "plt.xlabel('Epoch')\n",
    "plt.ylabel('Accuracy')\n",
    "plt.title('VGG19 Accuracy Over Time')\n",
    "\n",
    "plt.show()\n"
   ]
  },
  {
   "cell_type": "code",
   "execution_count": 194,
   "id": "fa84b9df",
   "metadata": {},
   "outputs": [
    {
     "name": "stdout",
     "output_type": "stream",
     "text": [
      "Final Training Accuracy of VGG19: 0.9974468350410461\n",
      "Final Validation Accuracy of VGG19: 0.9285714030265808\n"
     ]
    }
   ],
   "source": [
    "train_accuracy = vgg_history_with_dropout.history['accuracy']\n",
    "val_accuracy = vgg_history_with_dropout.history['val_accuracy']\n",
    "\n",
    "print(f\"Final Training Accuracy of VGG19: {train_accuracy[-1]}\")\n",
    "print(f\"Final Validation Accuracy of VGG19: {val_accuracy[-1]}\")\n"
   ]
  },
  {
   "cell_type": "code",
   "execution_count": 195,
   "id": "f37ceb6f",
   "metadata": {},
   "outputs": [
    {
     "name": "stdout",
     "output_type": "stream",
     "text": [
      "19/19 [==============================] - 70s 4s/step\n",
      "              precision    recall  f1-score   support\n",
      "\n",
      "           0       0.93      0.94      0.94        90\n",
      "           1       0.91      0.95      0.93        86\n",
      "           2       0.93      0.83      0.88        90\n",
      "           3       0.95      1.00      0.98        81\n",
      "           4       0.92      0.95      0.93        80\n",
      "           5       0.91      0.90      0.90        77\n",
      "           6       0.95      0.93      0.94        84\n",
      "\n",
      "    accuracy                           0.93       588\n",
      "   macro avg       0.93      0.93      0.93       588\n",
      "weighted avg       0.93      0.93      0.93       588\n",
      "\n"
     ]
    }
   ],
   "source": [
    "from sklearn.metrics import classification_report\n",
    "\n",
    "# Obtain predictions on test data\n",
    "predictions = vgg_model_with_dropout.predict(X_test)\n",
    "\n",
    "# Convert predictions to class labels\n",
    "predicted_classes = np.argmax(predictions, axis=1)\n",
    "\n",
    "# Convert one-hot encoded labels to class labels\n",
    "true_classes = np.argmax(y_test, axis=1)\n",
    "\n",
    "# Generate classification report\n",
    "report = classification_report(true_classes, predicted_classes)\n",
    "print(report)\n"
   ]
  },
  {
   "cell_type": "code",
   "execution_count": 196,
   "id": "c6def2d1",
   "metadata": {},
   "outputs": [
    {
     "name": "stdout",
     "output_type": "stream",
     "text": [
      "19/19 [==============================] - 68s 4s/step\n",
      "Confusion Matrix:\n",
      "[[85  1  0  0  4  0  0]\n",
      " [ 2 82  0  1  0  1  0]\n",
      " [ 0  4 75  2  1  4  4]\n",
      " [ 0  0  0 81  0  0  0]\n",
      " [ 2  0  0  0 76  2  0]\n",
      " [ 2  3  1  1  1 69  0]\n",
      " [ 0  0  5  0  1  0 78]]\n"
     ]
    }
   ],
   "source": [
    "from sklearn.metrics import confusion_matrix\n",
    "import numpy as np\n",
    "\n",
    "# Make predictions using your trained model on the test data\n",
    "predictions = vgg_model_with_dropout.predict(X_test)\n",
    "# predictions contain the predicted labels for the test images\n",
    "\n",
    "# Convert predictions and true labels to categorical labels (if needed)\n",
    "predicted_labels = np.argmax(predictions, axis=1)\n",
    "true_labels = np.argmax(y_test, axis=1)  # Assuming one-hot encoded labels for y_test\n",
    "\n",
    "# Compute the confusion matrix\n",
    "conf_matrix = confusion_matrix(true_labels, predicted_labels)\n",
    "\n",
    "print(\"Confusion Matrix:\")\n",
    "print(conf_matrix)\n"
   ]
  },
  {
   "cell_type": "markdown",
   "id": "f1dbce73",
   "metadata": {},
   "source": [
    "# MobileNetV2"
   ]
  },
  {
   "cell_type": "code",
   "execution_count": 10,
   "id": "9f57f368",
   "metadata": {},
   "outputs": [],
   "source": [
    "from tensorflow.keras.layers import Dropout\n",
    "from tensorflow.keras.callbacks import EarlyStopping\n",
    "from tensorflow.keras.regularizers import l2\n",
    "from tensorflow.keras.layers import Input, GlobalAveragePooling2D, Dense, Dropout\n",
    "from tensorflow.keras.models import Model\n",
    "\n",
    "# Load base models\n",
    "MobileNetV2_base = tf.keras.applications.MobileNetV2(weights='imagenet', include_top=False, input_shape=input_size + (3,))\n",
    "\n",
    "\n",
    "for layer in MobileNetV2_base.layers:\n",
    "     layer.trainable = False\n",
    "\n",
    "# for layer in vgg_base.layers:\n",
    "#     print(f\"Layer Name: {layer.name}, Trainable: {layer.trainable}\")\n",
    "\n",
    "# # # Freeze top layers in base models\n",
    "# def freeze_top_layers(base_model):\n",
    "#      for layer in MobileNetV2_base.layers[:-4]:  # Freeze all layers except the last 4\n",
    "#         layer.trainable = False\n",
    "\n",
    "freeze_top_layers(MobileNetV2_base)"
   ]
  },
  {
   "cell_type": "code",
   "execution_count": 11,
   "id": "9377b0b5",
   "metadata": {},
   "outputs": [
    {
     "name": "stdout",
     "output_type": "stream",
     "text": [
      "Non-frozen layers:\n",
      "[]\n"
     ]
    }
   ],
   "source": [
    "non_frozen_layers = [layer.name for layer in MobileNetV2_base.layers if layer.trainable]\n",
    "\n",
    "print(\"Non-frozen layers:\")\n",
    "print(non_frozen_layers)"
   ]
  },
  {
   "cell_type": "code",
   "execution_count": 12,
   "id": "1f6cea5f",
   "metadata": {},
   "outputs": [
    {
     "name": "stdout",
     "output_type": "stream",
     "text": [
      "Epoch 1/50\n",
      "74/74 [==============================] - 51s 617ms/step - loss: 12.0904 - accuracy: 0.1255 - val_loss: 10.2747 - val_accuracy: 0.1837\n",
      "Epoch 2/50\n",
      "74/74 [==============================] - 40s 547ms/step - loss: 9.2921 - accuracy: 0.1834 - val_loss: 8.1291 - val_accuracy: 0.2296\n",
      "Epoch 3/50\n",
      "74/74 [==============================] - 41s 554ms/step - loss: 7.4430 - accuracy: 0.2149 - val_loss: 6.6489 - val_accuracy: 0.2755\n",
      "Epoch 4/50\n",
      "74/74 [==============================] - 41s 557ms/step - loss: 6.1511 - accuracy: 0.2357 - val_loss: 5.6476 - val_accuracy: 0.2602\n",
      "Epoch 5/50\n",
      "74/74 [==============================] - 42s 563ms/step - loss: 5.2556 - accuracy: 0.2498 - val_loss: 4.8939 - val_accuracy: 0.2534\n",
      "Epoch 6/50\n",
      "74/74 [==============================] - 41s 562ms/step - loss: 4.6361 - accuracy: 0.2528 - val_loss: 4.3533 - val_accuracy: 0.2925\n",
      "Epoch 7/50\n",
      "74/74 [==============================] - 42s 568ms/step - loss: 4.1865 - accuracy: 0.2749 - val_loss: 4.0144 - val_accuracy: 0.2602\n",
      "Epoch 8/50\n",
      "74/74 [==============================] - 42s 575ms/step - loss: 3.8655 - accuracy: 0.2864 - val_loss: 3.7459 - val_accuracy: 0.2959\n",
      "Epoch 9/50\n",
      "74/74 [==============================] - 43s 582ms/step - loss: 3.6301 - accuracy: 0.2689 - val_loss: 3.5537 - val_accuracy: 0.2857\n",
      "Epoch 10/50\n",
      "74/74 [==============================] - 44s 590ms/step - loss: 3.4467 - accuracy: 0.2881 - val_loss: 3.3722 - val_accuracy: 0.2993\n",
      "Epoch 11/50\n",
      "74/74 [==============================] - 44s 590ms/step - loss: 3.3118 - accuracy: 0.3026 - val_loss: 3.2441 - val_accuracy: 0.3146\n",
      "Epoch 12/50\n",
      "74/74 [==============================] - 44s 592ms/step - loss: 3.1807 - accuracy: 0.3132 - val_loss: 3.1425 - val_accuracy: 0.2959\n",
      "Epoch 13/50\n",
      "74/74 [==============================] - 43s 589ms/step - loss: 3.0829 - accuracy: 0.3085 - val_loss: 3.0462 - val_accuracy: 0.2942\n",
      "Epoch 14/50\n",
      "74/74 [==============================] - 43s 589ms/step - loss: 2.9828 - accuracy: 0.3209 - val_loss: 2.9650 - val_accuracy: 0.3129\n",
      "Epoch 15/50\n",
      "74/74 [==============================] - 45s 605ms/step - loss: 2.9133 - accuracy: 0.3285 - val_loss: 2.8844 - val_accuracy: 0.3452\n",
      "Epoch 16/50\n",
      "74/74 [==============================] - 44s 602ms/step - loss: 2.8438 - accuracy: 0.3315 - val_loss: 2.8275 - val_accuracy: 0.3129\n",
      "Epoch 17/50\n",
      "74/74 [==============================] - 45s 603ms/step - loss: 2.7852 - accuracy: 0.3187 - val_loss: 2.7810 - val_accuracy: 0.3554\n",
      "Epoch 18/50\n",
      "74/74 [==============================] - 45s 604ms/step - loss: 2.7419 - accuracy: 0.3145 - val_loss: 2.7281 - val_accuracy: 0.3044\n",
      "Epoch 19/50\n",
      "74/74 [==============================] - 45s 604ms/step - loss: 2.6734 - accuracy: 0.3374 - val_loss: 2.6804 - val_accuracy: 0.3554\n",
      "Epoch 20/50\n",
      "74/74 [==============================] - 44s 601ms/step - loss: 2.6292 - accuracy: 0.3260 - val_loss: 2.6327 - val_accuracy: 0.3248\n",
      "Epoch 21/50\n",
      "74/74 [==============================] - 44s 597ms/step - loss: 2.5746 - accuracy: 0.3455 - val_loss: 2.6243 - val_accuracy: 0.3146\n",
      "Epoch 22/50\n",
      "74/74 [==============================] - 44s 600ms/step - loss: 2.5416 - accuracy: 0.3528 - val_loss: 2.5497 - val_accuracy: 0.3265\n",
      "Epoch 23/50\n",
      "74/74 [==============================] - 44s 602ms/step - loss: 2.5011 - accuracy: 0.3591 - val_loss: 2.5197 - val_accuracy: 0.3537\n",
      "Epoch 24/50\n",
      "74/74 [==============================] - 45s 610ms/step - loss: 2.4740 - accuracy: 0.3472 - val_loss: 2.4785 - val_accuracy: 0.3486\n",
      "Epoch 25/50\n",
      "74/74 [==============================] - 44s 601ms/step - loss: 2.4415 - accuracy: 0.3481 - val_loss: 2.4636 - val_accuracy: 0.3588\n",
      "Epoch 26/50\n",
      "74/74 [==============================] - 44s 603ms/step - loss: 2.4130 - accuracy: 0.3528 - val_loss: 2.4498 - val_accuracy: 0.3418\n",
      "Epoch 27/50\n",
      "74/74 [==============================] - 44s 601ms/step - loss: 2.3783 - accuracy: 0.3613 - val_loss: 2.3974 - val_accuracy: 0.3503\n",
      "Epoch 28/50\n",
      "74/74 [==============================] - 44s 599ms/step - loss: 2.3512 - accuracy: 0.3660 - val_loss: 2.3902 - val_accuracy: 0.3350\n",
      "Epoch 29/50\n",
      "74/74 [==============================] - 35s 476ms/step - loss: 2.3323 - accuracy: 0.3609 - val_loss: 2.3600 - val_accuracy: 0.3571\n",
      "Epoch 30/50\n",
      "74/74 [==============================] - 31s 419ms/step - loss: 2.3035 - accuracy: 0.3762 - val_loss: 2.3228 - val_accuracy: 0.3639\n",
      "Epoch 31/50\n",
      "74/74 [==============================] - 31s 419ms/step - loss: 2.2796 - accuracy: 0.3774 - val_loss: 2.3112 - val_accuracy: 0.3503\n",
      "Epoch 32/50\n",
      "74/74 [==============================] - 30s 404ms/step - loss: 2.2531 - accuracy: 0.3787 - val_loss: 2.3080 - val_accuracy: 0.3469\n",
      "Epoch 33/50\n",
      "74/74 [==============================] - 28s 374ms/step - loss: 2.2348 - accuracy: 0.3745 - val_loss: 2.2883 - val_accuracy: 0.3639\n",
      "Epoch 34/50\n",
      "74/74 [==============================] - 27s 370ms/step - loss: 2.2257 - accuracy: 0.3728 - val_loss: 2.2587 - val_accuracy: 0.3622\n",
      "Epoch 35/50\n",
      "74/74 [==============================] - 27s 363ms/step - loss: 2.1901 - accuracy: 0.3766 - val_loss: 2.2475 - val_accuracy: 0.3588\n",
      "Epoch 36/50\n",
      "74/74 [==============================] - 27s 360ms/step - loss: 2.1795 - accuracy: 0.3872 - val_loss: 2.2369 - val_accuracy: 0.3469\n",
      "Epoch 37/50\n",
      "74/74 [==============================] - 27s 371ms/step - loss: 2.1588 - accuracy: 0.3919 - val_loss: 2.2171 - val_accuracy: 0.3724\n",
      "Epoch 38/50\n",
      "74/74 [==============================] - 28s 380ms/step - loss: 2.1629 - accuracy: 0.3723 - val_loss: 2.2024 - val_accuracy: 0.3622\n",
      "Epoch 39/50\n",
      "74/74 [==============================] - 29s 397ms/step - loss: 2.1304 - accuracy: 0.3885 - val_loss: 2.1875 - val_accuracy: 0.3537\n",
      "Epoch 40/50\n",
      "74/74 [==============================] - 29s 393ms/step - loss: 2.1153 - accuracy: 0.3783 - val_loss: 2.2086 - val_accuracy: 0.3401\n",
      "Epoch 41/50\n",
      "74/74 [==============================] - 29s 389ms/step - loss: 2.1112 - accuracy: 0.3868 - val_loss: 2.1717 - val_accuracy: 0.3571\n",
      "Epoch 42/50\n",
      "74/74 [==============================] - 29s 395ms/step - loss: 2.1101 - accuracy: 0.3838 - val_loss: 2.1688 - val_accuracy: 0.3810\n",
      "Epoch 43/50\n",
      "74/74 [==============================] - 30s 404ms/step - loss: 2.0768 - accuracy: 0.3860 - val_loss: 2.1411 - val_accuracy: 0.3469\n",
      "Epoch 44/50\n",
      "74/74 [==============================] - 29s 395ms/step - loss: 2.0786 - accuracy: 0.3766 - val_loss: 2.1211 - val_accuracy: 0.3605\n",
      "Epoch 45/50\n",
      "74/74 [==============================] - 29s 399ms/step - loss: 2.0573 - accuracy: 0.4089 - val_loss: 2.1171 - val_accuracy: 0.3741\n",
      "Epoch 46/50\n",
      "74/74 [==============================] - 30s 401ms/step - loss: 2.0353 - accuracy: 0.4081 - val_loss: 2.1250 - val_accuracy: 0.3418\n",
      "Epoch 47/50\n",
      "74/74 [==============================] - 30s 400ms/step - loss: 2.0562 - accuracy: 0.3881 - val_loss: 2.1218 - val_accuracy: 0.3554\n",
      "Epoch 48/50\n",
      "74/74 [==============================] - 29s 399ms/step - loss: 2.0300 - accuracy: 0.3983 - val_loss: 2.0812 - val_accuracy: 0.3724\n",
      "Epoch 49/50\n",
      "74/74 [==============================] - 30s 402ms/step - loss: 2.0252 - accuracy: 0.3923 - val_loss: 2.0737 - val_accuracy: 0.3571\n",
      "Epoch 50/50\n",
      "74/74 [==============================] - 29s 394ms/step - loss: 2.0181 - accuracy: 0.3868 - val_loss: 2.0704 - val_accuracy: 0.3605\n"
     ]
    }
   ],
   "source": [
    "# Function to create transfer model with dropout\n",
    "def create_transfer_model_with_dropout(base_model, num_classes,dropout_rate=0.5,l2_penalty=0.01):\n",
    "    x = GlobalAveragePooling2D()(base_model.output)\n",
    "    x = Dense(1024, activation='relu', kernel_regularizer=l2(l2_penalty))(x)\n",
    "    x = Dropout(dropout_rate)(x)\n",
    "    predictions = Dense(7, activation='softmax')(x)\n",
    "    model = Model(inputs=base_model.input, outputs=predictions)\n",
    "    return model\n",
    "\n",
    "# Create transfer models with dropout\n",
    "MobileNetv2_model_with_dropout = create_transfer_model_with_dropout(MobileNetV2_base, num_classes)\n",
    "\n",
    "# Compile models\n",
    "def compile_model(model):\n",
    "    model.compile(optimizer=Adam(learning_rate=0.0001), loss='categorical_crossentropy', metrics=['accuracy'])\n",
    "\n",
    "compile_model(MobileNetv2_model_with_dropout)\n",
    "\n",
    "# Early stopping\n",
    "early_stopping = EarlyStopping(monitor='val_loss', patience=5)\n",
    "\n",
    "MobileNetV2_history_with_dropout = MobileNetv2_model_with_dropout.fit(X_train, y_train, \n",
    "                                                       batch_size= batch_size,\n",
    "                                                       validation_data= (X_test,y_test),\n",
    "                                                       validation_batch_size=batch_size,\n",
    "                                                       epochs=epochs, \n",
    "                                                       callbacks=[early_stopping])\n",
    "\n",
    "\n"
   ]
  }
 ],
 "metadata": {
  "kernelspec": {
   "display_name": "Python 3 (ipykernel)",
   "language": "python",
   "name": "python3"
  },
  "language_info": {
   "codemirror_mode": {
    "name": "ipython",
    "version": 3
   },
   "file_extension": ".py",
   "mimetype": "text/x-python",
   "name": "python",
   "nbconvert_exporter": "python",
   "pygments_lexer": "ipython3",
   "version": "3.11.5"
  }
 },
 "nbformat": 4,
 "nbformat_minor": 5
}
